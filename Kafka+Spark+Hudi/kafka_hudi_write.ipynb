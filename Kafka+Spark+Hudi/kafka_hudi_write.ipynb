{
 "cells": [
  {
   "cell_type": "code",
   "execution_count": 1,
   "id": "45a036e8-dd3e-4af7-a1bd-032aa1747fea",
   "metadata": {
    "execution": {
     "iopub.execute_input": "2022-03-22T00:44:01.629820Z",
     "iopub.status.busy": "2022-03-22T00:44:01.629582Z",
     "iopub.status.idle": "2022-03-22T00:44:01.645370Z",
     "shell.execute_reply": "2022-03-22T00:44:01.644811Z",
     "shell.execute_reply.started": "2022-03-22T00:44:01.629794Z"
    },
    "tags": []
   },
   "outputs": [
    {
     "data": {
      "text/html": [
       "Current session configs: <tt>{'conf': {'spark.jars': 'hdfs:///apps/hudi/lib/hudi-spark-bundle.jar,hdfs:///apps/hudi/lib/spark-avro.jar', 'spark.serializer': 'org.apache.spark.serializer.KryoSerializer', 'spark.sql.hive.convertMetastoreParquet': 'false', 'spark.jars.packages': 'org.apache.spark:spark-sql-kafka-0-10_2.12:3.1.2'}, 'proxyUser': 'assumed-role_Admin_corrtan-Isengard', 'kind': 'spark'}</tt><br>"
      ],
      "text/plain": [
       "<IPython.core.display.HTML object>"
      ]
     },
     "metadata": {},
     "output_type": "display_data"
    },
    {
     "data": {
      "text/html": [
       "No active sessions."
      ],
      "text/plain": [
       "<IPython.core.display.HTML object>"
      ]
     },
     "metadata": {},
     "output_type": "display_data"
    }
   ],
   "source": [
    "%%configure\n",
    "{ \"conf\": {\n",
    "            \"spark.jars\":\"hdfs:///apps/hudi/lib/hudi-spark-bundle.jar,hdfs:///apps/hudi/lib/spark-avro.jar\",\n",
    "            \"spark.serializer\":\"org.apache.spark.serializer.KryoSerializer\",\n",
    "            \"spark.sql.hive.convertMetastoreParquet\":\"false\",\n",
    "            \"spark.jars.packages\": \"org.apache.spark:spark-sql-kafka-0-10_2.12:3.1.2\"\n",
    "          }}"
   ]
  },
  {
   "cell_type": "code",
   "execution_count": 2,
   "id": "19504082-2b5f-497d-979a-ebc8c987c1f3",
   "metadata": {
    "execution": {
     "iopub.execute_input": "2022-03-22T00:44:01.652841Z",
     "iopub.status.busy": "2022-03-22T00:44:01.652628Z",
     "iopub.status.idle": "2022-03-22T00:44:47.751218Z",
     "shell.execute_reply": "2022-03-22T00:44:47.750480Z",
     "shell.execute_reply.started": "2022-03-22T00:44:01.652819Z"
    },
    "tags": []
   },
   "outputs": [
    {
     "data": {
      "application/vnd.jupyter.widget-view+json": {
       "model_id": "16aff063e5d447d0aca74392d73e2865",
       "version_major": 2,
       "version_minor": 0
      },
      "text/plain": [
       "VBox()"
      ]
     },
     "metadata": {},
     "output_type": "display_data"
    },
    {
     "name": "stdout",
     "output_type": "stream",
     "text": [
      "Starting Spark application\n"
     ]
    },
    {
     "data": {
      "text/html": [
       "<table>\n",
       "<tr><th>ID</th><th>YARN Application ID</th><th>Kind</th><th>State</th><th>Spark UI</th><th>Driver log</th><th>Current session?</th></tr><tr><td>7</td><td>application_1647862247100_0009</td><td>spark</td><td>idle</td><td><a target=\"_blank\" href=\"http://ip-172-31-80-216.ec2.internal:20888/proxy/application_1647862247100_0009/\" class=\"emr-proxy-link\" emr-resource=\"j-XISDQNGVMTPO\n",
       "\" application-id=\"application_1647862247100_0009\">Link</a></td><td><a target=\"_blank\" href=\"http://ip-172-31-91-129.ec2.internal:8042/node/containerlogs/container_1647862247100_0009_01_000001/livy\" >Link</a></td><td>✔</td></tr></table>"
      ],
      "text/plain": [
       "<IPython.core.display.HTML object>"
      ]
     },
     "metadata": {},
     "output_type": "display_data"
    },
    {
     "data": {
      "application/vnd.jupyter.widget-view+json": {
       "model_id": "",
       "version_major": 2,
       "version_minor": 0
      },
      "text/plain": [
       "FloatProgress(value=0.0, bar_style='info', description='Progress:', layout=Layout(height='25px', width='50%'),…"
      ]
     },
     "metadata": {},
     "output_type": "display_data"
    },
    {
     "name": "stdout",
     "output_type": "stream",
     "text": [
      "SparkSession available as 'spark'.\n"
     ]
    },
    {
     "data": {
      "application/vnd.jupyter.widget-view+json": {
       "model_id": "",
       "version_major": 2,
       "version_minor": 0
      },
      "text/plain": [
       "FloatProgress(value=0.0, bar_style='info', description='Progress:', layout=Layout(height='25px', width='50%'),…"
      ]
     },
     "metadata": {},
     "output_type": "display_data"
    },
    {
     "name": "stdout",
     "output_type": "stream",
     "text": [
      "import org.apache.spark.sql.{functions, SparkSession}\n",
      "import org.apache.spark.sql.types.DataTypes\n",
      "import org.apache.spark.sql.types.StructField\n",
      "import org.apache.spark.sql.SaveMode\n",
      "import org.apache.spark.sql.functions._\n",
      "import org.apache.hudi.DataSourceWriteOptions\n",
      "import org.apache.hudi.DataSourceReadOptions\n",
      "import org.apache.hudi.config.HoodieWriteConfig\n",
      "import org.apache.hudi.hive.MultiPartKeysValueExtractor\n",
      "import org.apache.hudi.config.HoodieCompactionConfig\n",
      "import org.apache.hudi.table.action.compact.CompactionTriggerStrategy\n",
      "import org.apache.spark.sql.streaming.StreamingQueryListener\n",
      "import org.apache.spark.sql.streaming.StreamingQueryListener._\n",
      "import org.apache.spark.sql.{DataFrame, Row, SaveMode}\n",
      "import java.time.LocalDateTime\n"
     ]
    }
   ],
   "source": [
    "import org.apache.spark.sql.{functions, SparkSession}\n",
    "import org.apache.spark.sql.types.DataTypes\n",
    "import org.apache.spark.sql.types.StructField\n",
    "import org.apache.spark.sql.SaveMode\n",
    "import org.apache.spark.sql.functions._\n",
    "import org.apache.hudi.DataSourceWriteOptions\n",
    "import org.apache.hudi.DataSourceReadOptions\n",
    "import org.apache.hudi.config.HoodieWriteConfig\n",
    "import org.apache.hudi.hive.MultiPartKeysValueExtractor\n",
    "import org.apache.hudi.config.HoodieCompactionConfig\n",
    "import org.apache.hudi.table.action.compact.CompactionTriggerStrategy\n",
    "import org.apache.spark.sql.streaming.StreamingQueryListener\n",
    "import org.apache.spark.sql.streaming.StreamingQueryListener._\n",
    "import org.apache.spark.sql.{DataFrame, Row, SaveMode}\n",
    "import java.time.LocalDateTime"
   ]
  },
  {
   "cell_type": "code",
   "execution_count": 3,
   "id": "6e015554-bc66-4cac-b214-0d6d124dca2a",
   "metadata": {
    "execution": {
     "iopub.execute_input": "2022-03-22T00:44:47.752433Z",
     "iopub.status.busy": "2022-03-22T00:44:47.752256Z",
     "iopub.status.idle": "2022-03-22T00:44:50.047001Z",
     "shell.execute_reply": "2022-03-22T00:44:50.046223Z",
     "shell.execute_reply.started": "2022-03-22T00:44:47.752411Z"
    },
    "tags": []
   },
   "outputs": [
    {
     "data": {
      "application/vnd.jupyter.widget-view+json": {
       "model_id": "b3d06ba1b2ab42468baddff70c63c9ca",
       "version_major": 2,
       "version_minor": 0
      },
      "text/plain": [
       "VBox()"
      ]
     },
     "metadata": {},
     "output_type": "display_data"
    },
    {
     "data": {
      "application/vnd.jupyter.widget-view+json": {
       "model_id": "",
       "version_major": 2,
       "version_minor": 0
      },
      "text/plain": [
       "FloatProgress(value=0.0, bar_style='info', description='Progress:', layout=Layout(height='25px', width='50%'),…"
      ]
     },
     "metadata": {},
     "output_type": "display_data"
    },
    {
     "name": "stdout",
     "output_type": "stream",
     "text": [
      "spark: org.apache.spark.sql.SparkSession = org.apache.spark.sql.SparkSession@39341a8\n"
     ]
    }
   ],
   "source": [
    "// Spark Session - Add listeners\n",
    "val spark = SparkSession.builder.appName(\"SparkHudi\").\n",
    "                config(\"spark.serializer\", \"org.apache.spark.serializer.KryoSerializer\").\n",
    "                config(\"spark.default.parallelism\", 9).\n",
    "                config(\"spark.sql.shuffle.partitions\", 9).\n",
    "                enableHiveSupport().\n",
    "                getOrCreate()\n",
    "\n",
    "spark.streams.addListener(new StreamingQueryListener() {\n",
    "    override def onQueryStarted(queryStarted: QueryStartedEvent): Unit = {\n",
    "        println(\"Query started: \" + queryStarted.id)\n",
    "    }\n",
    "    override def onQueryTerminated(queryTerminated: QueryTerminatedEvent): Unit = {\n",
    "        println(\"Query terminated: \" + queryTerminated.id)\n",
    "    }\n",
    "    override def onQueryProgress(queryProgress: QueryProgressEvent): Unit = {\n",
    "        println(\"Query made progress: \" + queryProgress.progress)\n",
    "    }\n",
    "})"
   ]
  },
  {
   "cell_type": "code",
   "execution_count": 4,
   "id": "4c3de44d-f4b8-4ff0-bd7e-ba333fdb41cb",
   "metadata": {
    "execution": {
     "iopub.execute_input": "2022-03-22T00:44:50.050317Z",
     "iopub.status.busy": "2022-03-22T00:44:50.050086Z",
     "iopub.status.idle": "2022-03-22T00:44:52.355206Z",
     "shell.execute_reply": "2022-03-22T00:44:52.354430Z",
     "shell.execute_reply.started": "2022-03-22T00:44:50.050294Z"
    },
    "tags": []
   },
   "outputs": [
    {
     "data": {
      "application/vnd.jupyter.widget-view+json": {
       "model_id": "d415b7804bce40b3bf46276b2de9c952",
       "version_major": 2,
       "version_minor": 0
      },
      "text/plain": [
       "VBox()"
      ]
     },
     "metadata": {},
     "output_type": "display_data"
    },
    {
     "data": {
      "application/vnd.jupyter.widget-view+json": {
       "model_id": "",
       "version_major": 2,
       "version_minor": 0
      },
      "text/plain": [
       "FloatProgress(value=0.0, bar_style='info', description='Progress:', layout=Layout(height='25px', width='50%'),…"
      ]
     },
     "metadata": {},
     "output_type": "display_data"
    },
    {
     "name": "stdout",
     "output_type": "stream",
     "text": [
      "targetDir: String = /tmp/sparkHudi\n",
      "checkpointLocation: String = /tmp/sparkHudi/checkpoint/\n",
      "bootstrapServers: String = b-1.corrine-kafka.9wq81s.c5.kafka.us-east-1.amazonaws.com:9092,b-3.corrine-kafka.9wq81s.c5.kafka.us-east-1.amazonaws.com:9092,b-2.corrine-kafka.9wq81s.c5.kafka.us-east-1.amazonaws.com:9092\n",
      "topic: String = CorrineNewTopic\n",
      "schema: org.apache.spark.sql.types.StructType = StructType(StructField(id,LongType,false), StructField(date,DateType,false), StructField(name,StringType,false), StructField(sales,StringType,false))\n",
      "dataStreamReader: org.apache.spark.sql.streaming.DataStreamReader = org.apache.spark.sql.streaming.DataStreamReader@a6f980a\n"
     ]
    }
   ],
   "source": [
    "// Define kafka flow\n",
    "val targetDir = \"/tmp/sparkHudi\"\n",
    "val checkpointLocation = \"/tmp/sparkHudi/checkpoint/\"\n",
    "val bootstrapServers = \"b-1.corrine-kafka.9wq81s.c5.kafka.us-east-1.amazonaws.com:9092,b-3.corrine-kafka.9wq81s.c5.kafka.us-east-1.amazonaws.com:9092,b-2.corrine-kafka.9wq81s.c5.kafka.us-east-1.amazonaws.com:9092\"\n",
    "val topic = \"CorrineNewTopic\"\n",
    "\n",
    "val schema = DataTypes.createStructType(Array[StructField](\n",
    "  DataTypes.createStructField(\"id\", DataTypes.LongType, false),\n",
    "  DataTypes.createStructField(\"date\", DataTypes.DateType, false),\n",
    "  DataTypes.createStructField(\"name\", DataTypes.StringType, false),\n",
    "  DataTypes.createStructField(\"sales\", DataTypes.StringType, false)))\n",
    "\n",
    "val dataStreamReader = spark.readStream.format(\"kafka\").\n",
    "                    option(\"kafka.bootstrap.servers\", bootstrapServers).\n",
    "                    option(\"subscribe\", topic).\n",
    "                    option(\"maxOffsetsPerTrigger\", 1000).\n",
    "                    option(\"startingOffsets\", \"earliest\").\n",
    "                    option(\"failOnDataLoss\", value = false)"
   ]
  },
  {
   "cell_type": "code",
   "execution_count": 5,
   "id": "f2b15a34-5078-42e5-b72e-156f30ef8a42",
   "metadata": {
    "execution": {
     "iopub.execute_input": "2022-03-22T00:44:52.356973Z",
     "iopub.status.busy": "2022-03-22T00:44:52.356725Z",
     "iopub.status.idle": "2022-03-22T00:44:54.656488Z",
     "shell.execute_reply": "2022-03-22T00:44:54.655779Z",
     "shell.execute_reply.started": "2022-03-22T00:44:52.356940Z"
    },
    "tags": []
   },
   "outputs": [
    {
     "data": {
      "application/vnd.jupyter.widget-view+json": {
       "model_id": "72a0b20bb4614fc8be498b2ddbca02ea",
       "version_major": 2,
       "version_minor": 0
      },
      "text/plain": [
       "VBox()"
      ]
     },
     "metadata": {},
     "output_type": "display_data"
    },
    {
     "data": {
      "application/vnd.jupyter.widget-view+json": {
       "model_id": "",
       "version_major": 2,
       "version_minor": 0
      },
      "text/plain": [
       "FloatProgress(value=0.0, bar_style='info', description='Progress:', layout=Layout(height='25px', width='50%'),…"
      ]
     },
     "metadata": {},
     "output_type": "display_data"
    },
    {
     "name": "stdout",
     "output_type": "stream",
     "text": [
      "df: org.apache.spark.sql.DataFrame = [kafka_topic: string, kafka_partition_offset: string ... 5 more fields]\n"
     ]
    }
   ],
   "source": [
    "// Loading stream data\n",
    "val df = dataStreamReader.load().selectExpr(\n",
    "        \"topic as kafka_topic\",\n",
    "        \"CAST(partition AS STRING) kafka_partition\",\n",
    "        \"CAST(timestamp AS String) kafka_timestamp\",\n",
    "        \"CAST(offset AS STRING) kafka_offset\",\n",
    "        \"CAST(key AS STRING) kafka_key\",\n",
    "        \"CAST(value AS STRING) kafka_value\",\n",
    "        \"current_timestamp() current_time\",\n",
    ").selectExpr(\n",
    "        \"kafka_topic\",\n",
    " \t\t\"concat(kafka_partition,'-',kafka_offset) kafka_partition_offset\",\n",
    "        \"kafka_offset\",\n",
    "        \"kafka_timestamp\",\n",
    "        \"kafka_key\",\n",
    "        \"kafka_value\",\n",
    "    \t\"substr(current_time,1,10) partition_date\")"
   ]
  },
  {
   "cell_type": "code",
   "execution_count": 6,
   "id": "62f46e77-e0cf-4e22-b07f-87f443e078c7",
   "metadata": {
    "execution": {
     "iopub.execute_input": "2022-03-22T00:44:54.658187Z",
     "iopub.status.busy": "2022-03-22T00:44:54.657731Z",
     "iopub.status.idle": "2022-03-22T00:44:55.937145Z",
     "shell.execute_reply": "2022-03-22T00:44:55.936355Z",
     "shell.execute_reply.started": "2022-03-22T00:44:54.658150Z"
    },
    "tags": []
   },
   "outputs": [
    {
     "data": {
      "application/vnd.jupyter.widget-view+json": {
       "model_id": "76ddc42fc4c24bdaa23eb9d9901d3fd2",
       "version_major": 2,
       "version_minor": 0
      },
      "text/plain": [
       "VBox()"
      ]
     },
     "metadata": {},
     "output_type": "display_data"
    },
    {
     "data": {
      "application/vnd.jupyter.widget-view+json": {
       "model_id": "",
       "version_major": 2,
       "version_minor": 0
      },
      "text/plain": [
       "FloatProgress(value=0.0, bar_style='info', description='Progress:', layout=Layout(height='25px', width='50%'),…"
      ]
     },
     "metadata": {},
     "output_type": "display_data"
    },
    {
     "name": "stdout",
     "output_type": "stream",
     "text": [
      "new_df: org.apache.spark.sql.DataFrame = [id: bigint, date: date ... 2 more fields]\n",
      "root\n",
      " |-- id: long (nullable = true)\n",
      " |-- date: date (nullable = true)\n",
      " |-- name: string (nullable = true)\n",
      " |-- sales: string (nullable = true)\n",
      "\n"
     ]
    }
   ],
   "source": [
    "val new_df = df.select(from_json(col(\"kafka_value\"), schema).as(\"value\")).select(\"value.*\")\n",
    "new_df.printSchema()"
   ]
  },
  {
   "cell_type": "code",
   "execution_count": 7,
   "id": "043b897b-a644-4694-878c-665d7561cd73",
   "metadata": {
    "execution": {
     "iopub.execute_input": "2022-03-22T00:44:55.938199Z",
     "iopub.status.busy": "2022-03-22T00:44:55.938021Z",
     "iopub.status.idle": "2022-03-22T00:44:58.234017Z",
     "shell.execute_reply": "2022-03-22T00:44:58.233246Z",
     "shell.execute_reply.started": "2022-03-22T00:44:55.938177Z"
    },
    "tags": []
   },
   "outputs": [
    {
     "data": {
      "application/vnd.jupyter.widget-view+json": {
       "model_id": "6a7f84726acf45c4b1b4981bf0d9869d",
       "version_major": 2,
       "version_minor": 0
      },
      "text/plain": [
       "VBox()"
      ]
     },
     "metadata": {},
     "output_type": "display_data"
    },
    {
     "data": {
      "application/vnd.jupyter.widget-view+json": {
       "model_id": "",
       "version_major": 2,
       "version_minor": 0
      },
      "text/plain": [
       "FloatProgress(value=0.0, bar_style='info', description='Progress:', layout=Layout(height='25px', width='50%'),…"
      ]
     },
     "metadata": {},
     "output_type": "display_data"
    },
    {
     "name": "stdout",
     "output_type": "stream",
     "text": [
      "s3Bucket: String = s3://emr-hudi-corrine\n",
      "TABLE: String = sales\n",
      "RECORDKEY: String = id\n",
      "PARTITION_FIELDS: String = name\n",
      "PRECOMBINE_FIELD: String = date\n",
      "warning: there were 8 deprecation warnings; for details, enable `:setting -deprecation' or `:replay -deprecation'\n",
      "hudiOptions: scala.collection.immutable.Map[String,String] = Map(hoodie.compact.inline.max.delta.seconds -> 3600, hoodie.datasource.write.precombine.field -> date, hoodie.compact.inline.trigger.strategy -> TIME_ELAPSED, hoodie.datasource.hive_sync.enable -> false, hoodie.datasource.write.recordkey.field -> id, hoodie.table.name -> sales, hoodie.datasource.write.table.type -> MERGE_ON_READ, hoodie.compact.inline -> true, hoodie.keep.max.commits -> 300, hoodie.cleaner.commits.retained -> 168, hoodie.keep.min.commits -> 169, hoodie.datasource.write.partitionpath.field -> name, hoodie.clean.async -> false)\n"
     ]
    }
   ],
   "source": [
    "// Hudi Options\n",
    "val s3Bucket = \"s3://emr-hudi-corrine\"\n",
    "val TABLE = \"sales\"\n",
    "val RECORDKEY = \"id\"\n",
    "val PARTITION_FIELDS = \"name\"\n",
    "val PRECOMBINE_FIELD = \"date\"\n",
    "// Skip the last five configs from your original hudi options\n",
    "val hudiOptions = Map[String,String](\n",
    "  HoodieWriteConfig.TABLE_NAME -> TABLE,\n",
    "  DataSourceWriteOptions.TABLE_TYPE_OPT_KEY -> DataSourceWriteOptions.MOR_TABLE_TYPE_OPT_VAL,\n",
    "  DataSourceWriteOptions.RECORDKEY_FIELD_OPT_KEY -> RECORDKEY,\n",
    "  DataSourceWriteOptions.PARTITIONPATH_FIELD_OPT_KEY -> PARTITION_FIELDS,\n",
    "  DataSourceWriteOptions.PRECOMBINE_FIELD_OPT_KEY -> PRECOMBINE_FIELD,\n",
    "  DataSourceWriteOptions.HIVE_SYNC_ENABLED_OPT_KEY -> \"false\",\n",
    "  HoodieCompactionConfig.INLINE_COMPACT_TRIGGER_STRATEGY_PROP -> CompactionTriggerStrategy.TIME_ELAPSED.name,\n",
    "  HoodieCompactionConfig.INLINE_COMPACT_TIME_DELTA_SECONDS_PROP -> String.valueOf(60 * 60),\n",
    "  HoodieCompactionConfig.CLEANER_COMMITS_RETAINED_PROP -> \"168\",\n",
    "  HoodieCompactionConfig.ASYNC_CLEAN_PROP -> \"false\", \n",
    "  HoodieCompactionConfig.INLINE_COMPACT_PROP -> \"true\",\n",
    "  HoodieCompactionConfig.MIN_COMMITS_TO_KEEP_PROP -> \"169\",\n",
    "  HoodieCompactionConfig.MAX_COMMITS_TO_KEEP_PROP -> \"300\"\n",
    ")"
   ]
  },
  {
   "cell_type": "code",
   "execution_count": null,
   "id": "f0944d47-460f-48d6-a715-55c92377e1d9",
   "metadata": {
    "execution": {
     "iopub.execute_input": "2022-03-22T00:44:58.235405Z",
     "iopub.status.busy": "2022-03-22T00:44:58.235165Z"
    },
    "tags": []
   },
   "outputs": [
    {
     "data": {
      "application/vnd.jupyter.widget-view+json": {
       "model_id": "1721560f5d7b41c69cc029b87bd1d999",
       "version_major": 2,
       "version_minor": 0
      },
      "text/plain": [
       "VBox()"
      ]
     },
     "metadata": {},
     "output_type": "display_data"
    },
    {
     "data": {
      "application/vnd.jupyter.widget-view+json": {
       "model_id": "505becc5d03642c78c5fa2331d8724b2",
       "version_major": 2,
       "version_minor": 0
      },
      "text/plain": [
       "FloatProgress(value=0.0, bar_style='info', description='Progress:', layout=Layout(height='25px', width='50%'),…"
      ]
     },
     "metadata": {},
     "output_type": "display_data"
    }
   ],
   "source": [
    "// Create and start query\n",
    "def myFunc(batchDF: DataFrame, batchId: Long) : Unit = {\n",
    "        batchDF.persist()\n",
    "        println(LocalDateTime.now() + \"start writing mor table\")\n",
    "\t\tbatchDF.write.format(\"org.apache.hudi\").\n",
    "            option(DataSourceWriteOptions.OPERATION_OPT_KEY, DataSourceWriteOptions.INSERT_OPERATION_OPT_VAL).\n",
    "            options(hudiOptions).\n",
    "            mode(SaveMode.Append).\n",
    "            save(s\"${s3Bucket}/${TABLE}\")\n",
    "        println(LocalDateTime.now() + \"finish\")\n",
    "        batchDF.unpersist()\n",
    "}\n",
    "val query = new_df.writeStream.queryName(\"streaming_hudi_query\").\n",
    "      foreachBatch(myFunc _).\n",
    "      start()\n",
    "\n",
    "query.awaitTermination()"
   ]
  }
 ],
 "metadata": {
  "kernelspec": {
   "display_name": "Spark",
   "language": "",
   "name": "sparkkernel"
  },
  "language_info": {
   "codemirror_mode": "text/x-scala",
   "mimetype": "text/x-scala",
   "name": "scala",
   "pygments_lexer": "scala"
  }
 },
 "nbformat": 4,
 "nbformat_minor": 5
}
