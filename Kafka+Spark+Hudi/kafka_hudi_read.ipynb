{
 "cells": [
  {
   "cell_type": "code",
   "execution_count": 1,
   "id": "46a59380-214a-43de-be4e-c0606b8007ec",
   "metadata": {
    "execution": {
     "iopub.execute_input": "2022-03-22T01:03:18.206182Z",
     "iopub.status.busy": "2022-03-22T01:03:18.205956Z",
     "iopub.status.idle": "2022-03-22T01:03:18.225011Z",
     "shell.execute_reply": "2022-03-22T01:03:18.224452Z",
     "shell.execute_reply.started": "2022-03-22T01:03:18.206156Z"
    },
    "tags": []
   },
   "outputs": [
    {
     "data": {
      "text/html": [
       "Current session configs: <tt>{'conf': {'spark.jars': 'hdfs:///apps/hudi/lib/hudi-spark-bundle.jar,hdfs:///apps/hudi/lib/spark-avro.jar', 'spark.serializer': 'org.apache.spark.serializer.KryoSerializer', 'spark.sql.hive.convertMetastoreParquet': 'false'}, 'proxyUser': 'assumed-role_Admin_corrtan-Isengard', 'kind': 'spark'}</tt><br>"
      ],
      "text/plain": [
       "<IPython.core.display.HTML object>"
      ]
     },
     "metadata": {},
     "output_type": "display_data"
    },
    {
     "data": {
      "text/html": [
       "No active sessions."
      ],
      "text/plain": [
       "<IPython.core.display.HTML object>"
      ]
     },
     "metadata": {},
     "output_type": "display_data"
    }
   ],
   "source": [
    "%%configure\n",
    "{ \"conf\": {\n",
    "            \"spark.jars\":\"hdfs:///apps/hudi/lib/hudi-spark-bundle.jar,hdfs:///apps/hudi/lib/spark-avro.jar\",\n",
    "            \"spark.serializer\":\"org.apache.spark.serializer.KryoSerializer\",\n",
    "            \"spark.sql.hive.convertMetastoreParquet\":\"false\"\n",
    "          }}"
   ]
  },
  {
   "cell_type": "code",
   "execution_count": 2,
   "id": "9ab222b2-95a3-462b-8eff-f185bc95c581",
   "metadata": {
    "execution": {
     "iopub.execute_input": "2022-03-22T01:03:18.229484Z",
     "iopub.status.busy": "2022-03-22T01:03:18.229313Z",
     "iopub.status.idle": "2022-03-22T01:03:55.918865Z",
     "shell.execute_reply": "2022-03-22T01:03:55.918153Z",
     "shell.execute_reply.started": "2022-03-22T01:03:18.229463Z"
    }
   },
   "outputs": [
    {
     "data": {
      "application/vnd.jupyter.widget-view+json": {
       "model_id": "e3bc371b53ad49df9a1421068899b26b",
       "version_major": 2,
       "version_minor": 0
      },
      "text/plain": [
       "VBox()"
      ]
     },
     "metadata": {},
     "output_type": "display_data"
    },
    {
     "name": "stdout",
     "output_type": "stream",
     "text": [
      "Starting Spark application\n"
     ]
    },
    {
     "data": {
      "text/html": [
       "<table>\n",
       "<tr><th>ID</th><th>YARN Application ID</th><th>Kind</th><th>State</th><th>Spark UI</th><th>Driver log</th><th>Current session?</th></tr><tr><td>2</td><td>application_1647910482647_0002</td><td>spark</td><td>idle</td><td><a target=\"_blank\" href=\"http://ip-172-31-86-127.ec2.internal:20888/proxy/application_1647910482647_0002/\" class=\"emr-proxy-link\" emr-resource=\"j-1YNJIBV1XMDON\n",
       "\" application-id=\"application_1647910482647_0002\">Link</a></td><td><a target=\"_blank\" href=\"http://ip-172-31-80-151.ec2.internal:8042/node/containerlogs/container_1647910482647_0002_01_000001/livy\" >Link</a></td><td>✔</td></tr></table>"
      ],
      "text/plain": [
       "<IPython.core.display.HTML object>"
      ]
     },
     "metadata": {},
     "output_type": "display_data"
    },
    {
     "data": {
      "application/vnd.jupyter.widget-view+json": {
       "model_id": "",
       "version_major": 2,
       "version_minor": 0
      },
      "text/plain": [
       "FloatProgress(value=0.0, bar_style='info', description='Progress:', layout=Layout(height='25px', width='50%'),…"
      ]
     },
     "metadata": {},
     "output_type": "display_data"
    },
    {
     "name": "stdout",
     "output_type": "stream",
     "text": [
      "SparkSession available as 'spark'.\n"
     ]
    },
    {
     "data": {
      "application/vnd.jupyter.widget-view+json": {
       "model_id": "",
       "version_major": 2,
       "version_minor": 0
      },
      "text/plain": [
       "FloatProgress(value=0.0, bar_style='info', description='Progress:', layout=Layout(height='25px', width='50%'),…"
      ]
     },
     "metadata": {},
     "output_type": "display_data"
    },
    {
     "name": "stdout",
     "output_type": "stream",
     "text": [
      "import org.apache.spark.sql.{functions, SparkSession}\n",
      "import org.apache.spark.sql.types.DataTypes\n",
      "import org.apache.spark.sql.types.StructField\n",
      "import org.apache.spark.sql.SaveMode\n",
      "import org.apache.spark.sql.functions._\n",
      "import org.apache.hudi.DataSourceWriteOptions\n",
      "import org.apache.hudi.DataSourceReadOptions\n",
      "import org.apache.hudi.config.HoodieWriteConfig\n",
      "import org.apache.hudi.hive.MultiPartKeysValueExtractor\n",
      "import org.apache.hudi.config.HoodieCompactionConfig\n",
      "import org.apache.hudi.table.action.compact.CompactionTriggerStrategy\n",
      "import org.apache.spark.sql.streaming.StreamingQueryListener\n",
      "import org.apache.spark.sql.streaming.StreamingQueryListener._\n",
      "import org.apache.spark.sql.{DataFrame, Row, SaveMode}\n",
      "import java.time.LocalDateTime\n"
     ]
    }
   ],
   "source": [
    "import org.apache.spark.sql.{functions, SparkSession}\n",
    "import org.apache.spark.sql.types.DataTypes\n",
    "import org.apache.spark.sql.types.StructField\n",
    "import org.apache.spark.sql.SaveMode\n",
    "import org.apache.spark.sql.functions._\n",
    "import org.apache.hudi.DataSourceWriteOptions\n",
    "import org.apache.hudi.DataSourceReadOptions\n",
    "import org.apache.hudi.config.HoodieWriteConfig\n",
    "import org.apache.hudi.hive.MultiPartKeysValueExtractor\n",
    "import org.apache.hudi.config.HoodieCompactionConfig\n",
    "import org.apache.hudi.table.action.compact.CompactionTriggerStrategy\n",
    "import org.apache.spark.sql.streaming.StreamingQueryListener\n",
    "import org.apache.spark.sql.streaming.StreamingQueryListener._\n",
    "import org.apache.spark.sql.{DataFrame, Row, SaveMode}\n",
    "import java.time.LocalDateTime"
   ]
  },
  {
   "cell_type": "code",
   "execution_count": 5,
   "id": "45104fa9-86c0-425f-9c1a-b08077567fe2",
   "metadata": {
    "execution": {
     "iopub.execute_input": "2022-03-22T01:03:59.855084Z",
     "iopub.status.busy": "2022-03-22T01:03:59.854717Z",
     "iopub.status.idle": "2022-03-22T01:04:11.355821Z",
     "shell.execute_reply": "2022-03-22T01:04:11.355114Z",
     "shell.execute_reply.started": "2022-03-22T01:03:59.855047Z"
    },
    "tags": []
   },
   "outputs": [
    {
     "data": {
      "application/vnd.jupyter.widget-view+json": {
       "model_id": "dd5e35dd70044e33a65a8df9e0005452",
       "version_major": 2,
       "version_minor": 0
      },
      "text/plain": [
       "VBox()"
      ]
     },
     "metadata": {},
     "output_type": "display_data"
    },
    {
     "data": {
      "application/vnd.jupyter.widget-view+json": {
       "model_id": "",
       "version_major": 2,
       "version_minor": 0
      },
      "text/plain": [
       "FloatProgress(value=0.0, bar_style='info', description='Progress:', layout=Layout(height='25px', width='50%'),…"
      ]
     },
     "metadata": {},
     "output_type": "display_data"
    },
    {
     "name": "stdout",
     "output_type": "stream",
     "text": [
      "s3Bucket: String = s3://emr-hudi-corrine\n",
      "TABLE: String = sales\n",
      "tableV1DF: org.apache.spark.sql.DataFrame = [_hoodie_commit_time: string, _hoodie_commit_seqno: string ... 7 more fields]\n"
     ]
    }
   ],
   "source": [
    "val s3Bucket = \"s3://emr-hudi-corrine\"\n",
    "val TABLE = \"sales\"\n",
    "val tableV1DF = spark.read.format(\"org.apache.hudi\").load(s\"${s3Bucket}/${TABLE}/*/*\")\n",
    "tableV1DF.createOrReplaceTempView(s\"${TABLE}_v1\")"
   ]
  },
  {
   "cell_type": "code",
   "execution_count": 7,
   "id": "e3cc0f1a-316e-4da7-a859-b8dd420df916",
   "metadata": {
    "execution": {
     "iopub.execute_input": "2022-03-22T01:09:59.080233Z",
     "iopub.status.busy": "2022-03-22T01:09:59.079879Z",
     "iopub.status.idle": "2022-03-22T01:10:04.429253Z",
     "shell.execute_reply": "2022-03-22T01:10:04.428489Z",
     "shell.execute_reply.started": "2022-03-22T01:09:59.080184Z"
    },
    "tags": []
   },
   "outputs": [
    {
     "data": {
      "application/vnd.jupyter.widget-view+json": {
       "model_id": "1c6ab7f7fc5242a188af6d514189de54",
       "version_major": 2,
       "version_minor": 0
      },
      "text/plain": [
       "VBox()"
      ]
     },
     "metadata": {},
     "output_type": "display_data"
    },
    {
     "data": {
      "application/vnd.jupyter.widget-view+json": {
       "model_id": "",
       "version_major": 2,
       "version_minor": 0
      },
      "text/plain": [
       "FloatProgress(value=0.0, bar_style='info', description='Progress:', layout=Layout(height='25px', width='50%'),…"
      ]
     },
     "metadata": {},
     "output_type": "display_data"
    },
    {
     "name": "stdout",
     "output_type": "stream",
     "text": [
      "beginCommitTime: String = 20220322010017\n",
      "incrementalDF: org.apache.spark.sql.DataFrame = [_hoodie_commit_time: string, _hoodie_commit_seqno: string ... 7 more fields]\n"
     ]
    }
   ],
   "source": [
    "val beginCommitTime = \"20220322010017\"\n",
    "val incrementalDF = spark.read.format(\"org.apache.hudi\").\n",
    "  option(DataSourceReadOptions.QUERY_TYPE_OPT_KEY, DataSourceReadOptions.QUERY_TYPE_INCREMENTAL_OPT_VAL).\n",
    "  option(DataSourceReadOptions.BEGIN_INSTANTTIME_OPT_KEY, beginCommitTime).\n",
    "  load(s\"${s3Bucket}/${TABLE}\")"
   ]
  },
  {
   "cell_type": "code",
   "execution_count": 8,
   "id": "a81cbe17-17df-4461-b205-d3ec674b13b4",
   "metadata": {
    "execution": {
     "iopub.execute_input": "2022-03-22T01:11:21.516151Z",
     "iopub.status.busy": "2022-03-22T01:11:21.515845Z",
     "iopub.status.idle": "2022-03-22T01:11:23.861946Z",
     "shell.execute_reply": "2022-03-22T01:11:23.861232Z",
     "shell.execute_reply.started": "2022-03-22T01:11:21.516113Z"
    }
   },
   "outputs": [
    {
     "data": {
      "application/vnd.jupyter.widget-view+json": {
       "model_id": "d5329e5ef79b4ba7a56516084c441d94",
       "version_major": 2,
       "version_minor": 0
      },
      "text/plain": [
       "VBox()"
      ]
     },
     "metadata": {},
     "output_type": "display_data"
    },
    {
     "data": {
      "application/vnd.jupyter.widget-view+json": {
       "model_id": "",
       "version_major": 2,
       "version_minor": 0
      },
      "text/plain": [
       "FloatProgress(value=0.0, bar_style='info', description='Progress:', layout=Layout(height='25px', width='50%'),…"
      ]
     },
     "metadata": {},
     "output_type": "display_data"
    },
    {
     "name": "stdout",
     "output_type": "stream",
     "text": [
      "hudi_tni_read: org.apache.spark.sql.Dataset[org.apache.spark.sql.Row] = [_hoodie_commit_time: string, _hoodie_commit_seqno: string ... 7 more fields]\n"
     ]
    }
   ],
   "source": [
    "incrementalDF.createOrReplaceTempView(\"tni_read\")\n",
    "val hudi_tni_read = spark.sql(\"select * from tni_read\").limit(10)"
   ]
  },
  {
   "cell_type": "code",
   "execution_count": 9,
   "id": "f89aa1f0-90a4-4aca-b808-d87884e9a2d4",
   "metadata": {
    "execution": {
     "iopub.execute_input": "2022-03-22T01:11:35.246625Z",
     "iopub.status.busy": "2022-03-22T01:11:35.246395Z",
     "iopub.status.idle": "2022-03-22T01:11:48.792713Z",
     "shell.execute_reply": "2022-03-22T01:11:48.792075Z",
     "shell.execute_reply.started": "2022-03-22T01:11:35.246600Z"
    }
   },
   "outputs": [
    {
     "data": {
      "application/vnd.jupyter.widget-view+json": {
       "model_id": "c6e61cfe094742f18d5b4bd509a7a469",
       "version_major": 2,
       "version_minor": 0
      },
      "text/plain": [
       "VBox()"
      ]
     },
     "metadata": {},
     "output_type": "display_data"
    },
    {
     "data": {
      "application/vnd.jupyter.widget-view+json": {
       "model_id": "",
       "version_major": 2,
       "version_minor": 0
      },
      "text/plain": [
       "FloatProgress(value=0.0, bar_style='info', description='Progress:', layout=Layout(height='25px', width='50%'),…"
      ]
     },
     "metadata": {},
     "output_type": "display_data"
    },
    {
     "name": "stdout",
     "output_type": "stream",
     "text": [
      "+-------------------+--------------------+------------------+----------------------+--------------------+-----+----------+-------+-----+\n",
      "|_hoodie_commit_time|_hoodie_commit_seqno|_hoodie_record_key|_hoodie_partition_path|   _hoodie_file_name|   id|      date|   name|sales|\n",
      "+-------------------+--------------------+------------------+----------------------+--------------------+-----+----------+-------+-----+\n",
      "|     20220322010020|20220322010020_0_...|             14096|               Corrine|7c37a2dc-de8b-4e1...|14096|2022-03-15|Corrine|12345|\n",
      "|     20220322010020|20220322010020_0_...|             14097|               Corrine|7c37a2dc-de8b-4e1...|14097|2022-03-15|Corrine|12345|\n",
      "|     20220322010020|20220322010020_0_...|             14094|               Corrine|7c37a2dc-de8b-4e1...|14094|2022-03-15|Corrine|12345|\n",
      "|     20220322010020|20220322010020_0_...|             14095|               Corrine|7c37a2dc-de8b-4e1...|14095|2022-03-15|Corrine|12345|\n",
      "|     20220322010020|20220322010020_0_...|             14111|               Corrine|7c37a2dc-de8b-4e1...|14111|2022-03-15|Corrine|12345|\n",
      "|     20220322010020|20220322010020_0_...|             14112|               Corrine|7c37a2dc-de8b-4e1...|14112|2022-03-15|Corrine|12345|\n",
      "|     20220322010020|20220322010020_0_...|             14098|               Corrine|7c37a2dc-de8b-4e1...|14098|2022-03-15|Corrine|12345|\n",
      "|     20220322010020|20220322010020_0_...|             14099|               Corrine|7c37a2dc-de8b-4e1...|14099|2022-03-15|Corrine|12345|\n",
      "|     20220322010020|20220322010020_0_...|             14110|               Corrine|7c37a2dc-de8b-4e1...|14110|2022-03-15|Corrine|12345|\n",
      "|     20220322010020|20220322010020_0_...|             14092|               Corrine|7c37a2dc-de8b-4e1...|14092|2022-03-15|Corrine|12345|\n",
      "+-------------------+--------------------+------------------+----------------------+--------------------+-----+----------+-------+-----+\n",
      "\n"
     ]
    }
   ],
   "source": [
    "hudi_tni_read.show()"
   ]
  }
 ],
 "metadata": {
  "kernelspec": {
   "display_name": "Spark",
   "language": "",
   "name": "sparkkernel"
  },
  "language_info": {
   "codemirror_mode": "text/x-scala",
   "mimetype": "text/x-scala",
   "name": "scala",
   "pygments_lexer": "scala"
  }
 },
 "nbformat": 4,
 "nbformat_minor": 5
}
